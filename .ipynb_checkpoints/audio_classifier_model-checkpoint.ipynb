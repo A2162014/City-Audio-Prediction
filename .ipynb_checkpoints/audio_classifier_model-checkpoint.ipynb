{
 "cells": [
  {
   "cell_type": "markdown",
   "id": "b36d6ac1",
   "metadata": {},
   "source": [
    "# Preparing training data"
   ]
  },
  {
   "cell_type": "code",
   "execution_count": 1,
   "id": "4bc2ebd7",
   "metadata": {
    "scrolled": true
   },
   "outputs": [
    {
     "data": {
      "text/html": [
       "<div>\n",
       "<style scoped>\n",
       "    .dataframe tbody tr th:only-of-type {\n",
       "        vertical-align: middle;\n",
       "    }\n",
       "\n",
       "    .dataframe tbody tr th {\n",
       "        vertical-align: top;\n",
       "    }\n",
       "\n",
       "    .dataframe thead th {\n",
       "        text-align: right;\n",
       "    }\n",
       "</style>\n",
       "<table border=\"1\" class=\"dataframe\">\n",
       "  <thead>\n",
       "    <tr style=\"text-align: right;\">\n",
       "      <th></th>\n",
       "      <th>relative_path</th>\n",
       "      <th>classID</th>\n",
       "    </tr>\n",
       "  </thead>\n",
       "  <tbody>\n",
       "    <tr>\n",
       "      <th>0</th>\n",
       "      <td>/fold5/100032-3-0-0.wav</td>\n",
       "      <td>3</td>\n",
       "    </tr>\n",
       "    <tr>\n",
       "      <th>1</th>\n",
       "      <td>/fold5/100263-2-0-117.wav</td>\n",
       "      <td>2</td>\n",
       "    </tr>\n",
       "    <tr>\n",
       "      <th>2</th>\n",
       "      <td>/fold5/100263-2-0-121.wav</td>\n",
       "      <td>2</td>\n",
       "    </tr>\n",
       "    <tr>\n",
       "      <th>3</th>\n",
       "      <td>/fold5/100263-2-0-126.wav</td>\n",
       "      <td>2</td>\n",
       "    </tr>\n",
       "    <tr>\n",
       "      <th>4</th>\n",
       "      <td>/fold5/100263-2-0-137.wav</td>\n",
       "      <td>2</td>\n",
       "    </tr>\n",
       "  </tbody>\n",
       "</table>\n",
       "</div>"
      ],
      "text/plain": [
       "               relative_path  classID\n",
       "0    /fold5/100032-3-0-0.wav        3\n",
       "1  /fold5/100263-2-0-117.wav        2\n",
       "2  /fold5/100263-2-0-121.wav        2\n",
       "3  /fold5/100263-2-0-126.wav        2\n",
       "4  /fold5/100263-2-0-137.wav        2"
      ]
     },
     "execution_count": 1,
     "metadata": {},
     "output_type": "execute_result"
    }
   ],
   "source": [
    "#-----------------------------------------\n",
    "# Prepare training data from Metadata file\n",
    "#-----------------------------------------\n",
    "import pandas as pd\n",
    "from pathlib import Path\n",
    "\n",
    "download_path = Path.cwd()/'UrbanSound8K'\n",
    "\n",
    "# Read metadata file\n",
    "metadata_file = download_path/'metadata'/'UrbanSound8k.csv'\n",
    "df = pd.read_csv(metadata_file)\n",
    "df.head()\n",
    "\n",
    "# Construct file path by concatenating fold and file name\n",
    "df['relative_path'] = '/fold' + df['fold'].astype(str) + '/' + df['slice_file_name'].astype(str)\n",
    "\n",
    "# Take relevant columns\n",
    "df = df[['relative_path','classID']]\n",
    "df.head()"
   ]
  },
  {
   "cell_type": "markdown",
   "id": "c37ec874",
   "metadata": {},
   "source": [
    "# Audio Preprocessing: Define Transforms"
   ]
  },
  {
   "cell_type": "code",
   "execution_count": 2,
   "id": "b723332a",
   "metadata": {},
   "outputs": [],
   "source": [
    "import math, random\n",
    "import torch\n",
    "import torchaudio\n",
    "from torchaudio import transforms\n",
    "from IPython.display import Audio\n",
    "\n",
    "class AudioUtil():\n",
    "    #----------------------------------------\n",
    "    # Load an audio file, Return the signal as a tensor and the sample rate\n",
    "    #----------------------------------------\n",
    "    @staticmethod\n",
    "    def open(audio_file):\n",
    "        sig, sr = torchaudio.load(audio_file)\n",
    "        return (sig,sr)    "
   ]
  },
  {
   "cell_type": "code",
   "execution_count": 3,
   "id": "f14373f3",
   "metadata": {},
   "outputs": [],
   "source": [
    "    #----------------------------------------\n",
    "    # Convert the given audio to the desired number of channels\n",
    "    #----------------------------------------\n",
    "    @staticmethod\n",
    "    def rechannel(aud, new_channel):\n",
    "        sig, sr = aud\n",
    "        \n",
    "        if (sig.shape[0] == new_channel):\n",
    "            # Nothing to do\n",
    "            return aud\n",
    "        \n",
    "        if (new_chanel == 1):\n",
    "            # Convert from stereo to mono by selecting only the first channel\n",
    "            resig = sig[:1, :]\n",
    "            \n",
    "        else:\n",
    "            # Convert from mono to stereo by duplicating the first channel\n",
    "            resig = torch.cat([sig, sig])\n",
    "            \n",
    "        return ((resig, sr))"
   ]
  },
  {
   "cell_type": "code",
   "execution_count": 4,
   "id": "cf3b4744",
   "metadata": {},
   "outputs": [],
   "source": [
    "    #--------------------------------------\n",
    "    # Since Resample applies to a single channel, we resample one channel at a time\n",
    "    #--------------------------------------\n",
    "    @staticmethod\n",
    "    def resample(aud, newsr):\n",
    "        sig, sr = aud\n",
    "        \n",
    "        if (sr == newsr):\n",
    "            # Nothing to do\n",
    "            return aud\n",
    "        \n",
    "        num_channels = sig.shape[0]\n",
    "        #Resample first channel\n",
    "        resig =  torchaudio.transforms.Resample(sr, newsr)(sig[:1,:])\n",
    "        if (num_channels > 1):\n",
    "            # Resample the seond channel and merge both channels\n",
    "            retwo = torchaudio.transforms.Resample(sr, newsr)(sig[1:,:])\n",
    "            resig = torch.cat([resig, retwo])\n",
    "            \n",
    "        return ((resig, newsr))"
   ]
  },
  {
   "cell_type": "code",
   "execution_count": 1,
   "id": "eee7ae88",
   "metadata": {},
   "outputs": [],
   "source": [
    "    #----------------------------------------\n",
    "    # Pad (or truncate) the signal to a fixed length 'max_ms' is milliseconds\n",
    "    # ---------------------------------------\n",
    "    @staticmethod\n",
    "    def pad_trunc(aud, max_ms):\n",
    "        num_rows, sig_len = sig.shape\n",
    "        max_len = sr//1000 * max_ms\n",
    "        \n",
    "        if (sig_len > max_len):\n",
    "            # Truncate the signal to the given length\n",
    "            sig = sig[:, :maxlen]\n",
    "            \n",
    "        elif (sig_len < max_len):\n",
    "            # Length of padding to add at the beginning and end of the signal\n",
    "            pad_begin_len = random.randint(0, max_len - sig_len)\n",
    "            pad_end_len = max_len - sig_len - pad_begin_len\n",
    "            \n",
    "            #pad with 0s\n",
    "            pad_begin = torch.zeros((num_rows, pad_begin_len))\n",
    "            pad_end = torch.zeros((num_rows, pad_end_len))\n",
    "            \n",
    "            sig = torch.cat((pad_begin, sig, pad_end), 1)\n",
    "        \n",
    "        return (sig, sr)"
   ]
  },
  {
   "cell_type": "code",
   "execution_count": 6,
   "id": "ea95976a",
   "metadata": {},
   "outputs": [],
   "source": [
    "    #-------------------------------\n",
    "    # Shifts the signal to the left or right by some percent. Values at the end\n",
    "    # are 'wrapped around' to the start of the transformed signal.\n",
    "    #-------------------------------\n",
    "    @staticmethod\n",
    "    def time_shift(aud, shift_limit):\n",
    "        sig, sr = aud\n",
    "        _, sig_len = sig.shape\n",
    "        shift_amt = int(random.random() * shift_limit * sig_len)\n",
    "        return (sig.roll(shift_amt), sr)"
   ]
  },
  {
   "cell_type": "code",
   "execution_count": 7,
   "id": "79fe30be",
   "metadata": {},
   "outputs": [],
   "source": [
    "    #-------------------------------\n",
    "    # Genrate a Spectrogram\n",
    "    #-------------------------------\n",
    "    @staticmethod\n",
    "    def spectro_gram(aud, n_mels = 64, n_fft = 1024, hop_len = None):\n",
    "        sig, sr = aud\n",
    "        top_db = 80\n",
    "        \n",
    "        # spec has shape [channel, n_mels, time], where channel is mono, stereo, etc\n",
    "        spec = transforms.MelSpectrogram(sr, n_fft = n_fft, hop_length = hop_len, n_mels = n_mels)(sig)\n",
    "        \n",
    "        #Convert to decibels\n",
    "        spec = tranforms.AmplitudeToDB(top_db = top_db)(spec)\n",
    "        return(spec)"
   ]
  },
  {
   "cell_type": "code",
   "execution_count": 8,
   "id": "5a9cd5d5",
   "metadata": {},
   "outputs": [],
   "source": [
    "    #------------------------------\n",
    "    # Augment the spectrogram by masking out some sections of it in both frequency\n",
    "    # dimension (ie. horizontal bars) and the time dimensions (ie. vertical bars) to prevent \n",
    "    # overfitting and to help the model generalise better. The masked sections are \n",
    "    # replaced with the mean value\n",
    "    #------------------------------\n",
    "    @staticmethod\n",
    "    def spectro_augment(spec, max_mask_pct = 0.1, n_freq_masks = 1, n_time_masks = 1):\n",
    "        _, n_mels, n_steps = spec.shape\n",
    "        mask_value = spec.mean()\n",
    "        aug_spec = spec\n",
    "        \n",
    "        freq_mask_param = max_mask_pct * n_mels\n",
    "        for _ in range(n_freq_masks):\n",
    "            aug_spec = transforms.FrequencyMasking(freq_mask_param)(aug_spec, mask_value)\n",
    "            \n",
    "        return aug_spec"
   ]
  }
 ],
 "metadata": {
  "kernelspec": {
   "display_name": "Python 3 (ipykernel)",
   "language": "python",
   "name": "python3"
  },
  "language_info": {
   "codemirror_mode": {
    "name": "ipython",
    "version": 3
   },
   "file_extension": ".py",
   "mimetype": "text/x-python",
   "name": "python",
   "nbconvert_exporter": "python",
   "pygments_lexer": "ipython3",
   "version": "3.9.13"
  }
 },
 "nbformat": 4,
 "nbformat_minor": 5
}
